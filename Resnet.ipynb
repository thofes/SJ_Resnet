{
 "cells": [
  {
   "cell_type": "code",
   "execution_count": 5,
   "metadata": {},
   "outputs": [
    {
     "ename": "ImportError",
     "evalue": "cannot import name 'Ranger' from 'learning_func' (c:\\Users\\jonas\\Desktop\\HoferThomas\\SJ_Resnet\\learning_func.py)",
     "output_type": "error",
     "traceback": [
      "\u001b[1;31m---------------------------------------------------------------------------\u001b[0m",
      "\u001b[1;31mImportError\u001b[0m                               Traceback (most recent call last)",
      "Cell \u001b[1;32mIn[5], line 2\u001b[0m\n\u001b[0;32m      1\u001b[0m \u001b[39mfrom\u001b[39;00m \u001b[39mdataloader\u001b[39;00m \u001b[39mimport\u001b[39;00m load_data\n\u001b[1;32m----> 2\u001b[0m \u001b[39mfrom\u001b[39;00m \u001b[39mlearning_func\u001b[39;00m \u001b[39mimport\u001b[39;00m Ranger, scheduler\n\u001b[0;32m      3\u001b[0m \u001b[39mimport\u001b[39;00m \u001b[39mtensorflow\u001b[39;00m \u001b[39mas\u001b[39;00m \u001b[39mtf\u001b[39;00m\n\u001b[0;32m      4\u001b[0m \u001b[39mfrom\u001b[39;00m \u001b[39mtensorflow\u001b[39;00m\u001b[39m.\u001b[39;00m\u001b[39mkeras\u001b[39;00m\u001b[39m.\u001b[39;00m\u001b[39mlayers\u001b[39;00m \u001b[39mimport\u001b[39;00m Dense, Conv2D, BatchNormalization, Activation, AveragePooling2D, Input, Flatten, add\n",
      "\u001b[1;31mImportError\u001b[0m: cannot import name 'Ranger' from 'learning_func' (c:\\Users\\jonas\\Desktop\\HoferThomas\\SJ_Resnet\\learning_func.py)"
     ]
    }
   ],
   "source": [
    "from dataloader import load_data\n",
    "from learning_func import Ranger, scheduler\n",
    "import tensorflow as tf\n",
    "from tensorflow.keras.layers import Dense, Conv2D, BatchNormalization, Activation, AveragePooling2D, Input, Flatten, add\n",
    "from tensorflow.keras.models import Sequential\n",
    "from tensorflow import keras\n",
    "#!pip install -U tensorflow-addons\n",
    "import tensorflow_addons as tfa\n",
    "from tensorflow.keras.callbacks import EarlyStopping     \n",
    "\n",
    "\n",
    "train_dir = \"C:/Users/jonas/Desktop/HoferThomas/Dataset_Resnet_small\"\n",
    "val_dir = \"C:/Users/jonas/Desktop/HoferThomas/Dataset_Resnet_small\"\n",
    "\n",
    "train_ds, val_ds, class_names = load_data(train_dir, val_dir)\n",
    "print(class_names)\n",
    "#model, history = train_model(train_ds, val_ds, class_names)"
   ]
  },
  {
   "cell_type": "code",
   "execution_count": null,
   "metadata": {},
   "outputs": [],
   "source": [
    "pretrained_model= tf.keras.applications.ResNet50(include_top=False,\n",
    "                   input_shape=(270,480,3),\n",
    "                   pooling='avg',classes=2,\n",
    "                   weights='imagenet')\n",
    "for layer in pretrained_model.layers:\n",
    "        layer.trainable=False\n",
    "\n",
    "resnet_model = Sequential()\n",
    "resnet_model.add(pretrained_model)\n",
    "resnet_model.add(Dense(1, activation='sigmoid'))\n",
    "\n",
    "resnet_model.summary()\n",
    "\n",
    "\n",
    "save_callback = EarlyStopping(\n",
    "    monitor=\"val_accuracy\",\n",
    "    min_delta=0,\n",
    "    patience=50,\n",
    "    verbose=1,\n",
    "    mode=\"auto\",\n",
    "    baseline=None,\n",
    "    restore_best_weights=True,\n",
    ")\n",
    "\n",
    "lr_scheduler = keras.callbacks.LearningRateScheduler(scheduler, verbose=1)\n",
    "\n",
    "resnet_model.compile(optimizer=Ranger(), loss='binary_crossentropy', metrics=['accuracy'])\n",
    "\n",
    "\n",
    "epochs=50\n",
    "history = resnet_model.fit(\n",
    "  train_ds,\n",
    "  validation_data=val_ds,\n",
    "  epochs=epochs,\n",
    "  shuffle=True,\n",
    "  callbacks=[save_callback]\n",
    ")"
   ]
  }
 ],
 "metadata": {
  "kernelspec": {
   "display_name": "Python 3",
   "language": "python",
   "name": "python3"
  },
  "language_info": {
   "codemirror_mode": {
    "name": "ipython",
    "version": 3
   },
   "file_extension": ".py",
   "mimetype": "text/x-python",
   "name": "python",
   "nbconvert_exporter": "python",
   "pygments_lexer": "ipython3",
   "version": "3.9.11"
  },
  "orig_nbformat": 4
 },
 "nbformat": 4,
 "nbformat_minor": 2
}
